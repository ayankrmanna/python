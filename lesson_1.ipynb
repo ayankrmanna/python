{
 "cells": [
  {
   "cell_type": "code",
   "execution_count": 1,
   "id": "65e2cf20",
   "metadata": {},
   "outputs": [
    {
     "data": {
      "text/plain": [
       "4"
      ]
     },
     "execution_count": 1,
     "metadata": {},
     "output_type": "execute_result"
    }
   ],
   "source": [
    "2 + 2"
   ]
  },
  {
   "cell_type": "markdown",
   "id": "03763761",
   "metadata": {},
   "source": [
    "Defining variables"
   ]
  },
  {
   "cell_type": "code",
   "execution_count": 2,
   "id": "2b0f07ed",
   "metadata": {},
   "outputs": [],
   "source": [
    "E = 68.1289790\n",
    "px = -17.945541\n",
    "py = 13.1652603\n",
    "pz = 64.3908386"
   ]
  },
  {
   "cell_type": "markdown",
   "id": "7e311d17",
   "metadata": {},
   "source": [
    "Now we can use E, px, py, pz:"
   ]
  },
  {
   "cell_type": "code",
   "execution_count": 3,
   "id": "417c15c1",
   "metadata": {},
   "outputs": [
    {
     "data": {
      "text/plain": [
       "-17.945541"
      ]
     },
     "execution_count": 3,
     "metadata": {},
     "output_type": "execute_result"
    }
   ],
   "source": [
    "px"
   ]
  },
  {
   "cell_type": "markdown",
   "id": "3cdc7618",
   "metadata": {},
   "source": [
    "Calculate $p_x^2 + p_y^2$"
   ]
  },
  {
   "cell_type": "code",
   "execution_count": 4,
   "id": "9c2f0181",
   "metadata": {},
   "outputs": [
    {
     "data": {
      "text/plain": [
       "495.36652054943704"
      ]
     },
     "execution_count": 4,
     "metadata": {},
     "output_type": "execute_result"
    }
   ],
   "source": [
    "px**2 +py**2"
   ]
  },
  {
   "cell_type": "markdown",
   "id": "ce9a9a6f",
   "metadata": {},
   "source": [
    "Now $\\sqrt{p_x^2 + p_y^2+ p_z^2} $"
   ]
  },
  {
   "cell_type": "code",
   "execution_count": 5,
   "id": "fab3a91c",
   "metadata": {},
   "outputs": [
    {
     "data": {
      "text/plain": [
       "68.12889707136529"
      ]
     },
     "execution_count": 5,
     "metadata": {},
     "output_type": "execute_result"
    }
   ],
   "source": [
    "(px**2 + py**2 + pz**2)**(1/2)"
   ]
  },
  {
   "cell_type": "markdown",
   "id": "3ba40fb8",
   "metadata": {},
   "source": [
    "We'll be using these equations a lot:"
   ]
  },
  {
   "cell_type": "markdown",
   "id": "0a40e91c",
   "metadata": {},
   "source": [
    "$$\n",
    "p = \\sqrt{p_x^2 + p_y^2+p_z^2}\n",
    "$$"
   ]
  },
  {
   "cell_type": "markdown",
   "id": "61947e3e",
   "metadata": {},
   "source": [
    "$$\n",
    "m = \\sqrt{E^2 - p^2}\n",
    "$$\n"
   ]
  },
  {
   "cell_type": "code",
   "execution_count": 7,
   "id": "d50a6d60",
   "metadata": {},
   "outputs": [
    {
     "data": {
      "text/plain": [
       "0.10565709514578395"
      ]
     },
     "execution_count": 7,
     "metadata": {},
     "output_type": "execute_result"
    }
   ],
   "source": [
    "m = (E**2 - px**2 - py**2 - pz**2)**(1/2)\n",
    "m"
   ]
  },
  {
   "cell_type": "markdown",
   "id": "2751995a",
   "metadata": {},
   "source": [
    "<details>\n",
    "<summary>Click to expand</summary>\n",
    "\n",
    "### Content inside the dropdown\n",
    "You can include text, lists, or any Markdown content here.\n",
    "\n",
    "- Bullet point 1\n",
    "- Bullet point 2\n",
    "\n",
    "**Bold text**, *italic text*, and more.\n",
    "\n",
    "</details>\n",
    "\n"
   ]
  },
  {
   "cell_type": "markdown",
   "id": "825e5793",
   "metadata": {},
   "source": [
    "The syntax for defining a function is:"
   ]
  },
  {
   "cell_type": "code",
   "execution_count": 7,
   "id": "1ab44488",
   "metadata": {},
   "outputs": [],
   "source": [
    "def euclidean(x, y, z):\n",
    "    return (x**2 + y**2 + z**2)**(1/2)\n",
    "\n",
    "def minkowski(time, space):\n",
    "    return (time**2 - space**2)**(1/2)\n"
   ]
  },
  {
   "cell_type": "markdown",
   "id": "c6235054",
   "metadata": {},
   "source": [
    "We can call them with arguments identified by position or by name."
   ]
  },
  {
   "cell_type": "code",
   "execution_count": 8,
   "id": "6f907c8b",
   "metadata": {},
   "outputs": [
    {
     "data": {
      "text/plain": [
       "68.12889707136529"
      ]
     },
     "execution_count": 8,
     "metadata": {},
     "output_type": "execute_result"
    }
   ],
   "source": [
    "euclidean(px, py, pz)"
   ]
  },
  {
   "cell_type": "code",
   "execution_count": 9,
   "id": "43f4531e",
   "metadata": {},
   "outputs": [
    {
     "data": {
      "text/plain": [
       "68.12889707136529"
      ]
     },
     "execution_count": 9,
     "metadata": {},
     "output_type": "execute_result"
    }
   ],
   "source": [
    "euclidean(z=pz, y=py, x=px)"
   ]
  },
  {
   "cell_type": "markdown",
   "id": "cc114b1a",
   "metadata": {},
   "source": [
    "Function calls can be arguments to function calls."
   ]
  },
  {
   "cell_type": "code",
   "execution_count": 10,
   "id": "0ca8a3b7",
   "metadata": {},
   "outputs": [
    {
     "data": {
      "text/plain": [
       "0.10565709515008793"
      ]
     },
     "execution_count": 10,
     "metadata": {},
     "output_type": "execute_result"
    }
   ],
   "source": [
    "minkowski(E, euclidean(px, py, pz))"
   ]
  },
  {
   "cell_type": "markdown",
   "id": "08c0874d",
   "metadata": {},
   "source": [
    "Nested indenting only needs to be deeper and pop back to the previous level, but a standard of 2 or 4 spaces are often used.\n",
    "\n",
    "Beware: **tab** is not **space**! (Though both are invisible.)"
   ]
  },
  {
   "cell_type": "code",
   "execution_count": 11,
   "id": "f50c6c5f",
   "metadata": {},
   "outputs": [
    {
     "data": {
      "text/plain": [
       "0.10565709515008793"
      ]
     },
     "execution_count": 11,
     "metadata": {},
     "output_type": "execute_result"
    }
   ],
   "source": [
    "def mass(E, px, py, pz):\n",
    "    def euclidean(x, y, z):\n",
    "        return (x**2 + y**2 + z**2) ** (1 / 2)\n",
    "\n",
    "    def minkowski(time, space):\n",
    "        return (time**2 - space**2) ** (1 / 2)\n",
    "\n",
    "    return minkowski(E, euclidean(px, py, pz))\n",
    "\n",
    "\n",
    "mass(E, px, py, pz)"
   ]
  },
  {
   "cell_type": "markdown",
   "id": "29c16832",
   "metadata": {},
   "source": [
    "Note: functions can be assigned as variables, too. In Python, everything is an object."
   ]
  },
  {
   "cell_type": "code",
   "execution_count": 13,
   "id": "bc88b167",
   "metadata": {},
   "outputs": [],
   "source": [
    "mag3d = euclidean"
   ]
  },
  {
   "cell_type": "code",
   "execution_count": 14,
   "id": "c3a87be6",
   "metadata": {},
   "outputs": [
    {
     "data": {
      "text/plain": [
       "68.12889707136529"
      ]
     },
     "execution_count": 14,
     "metadata": {},
     "output_type": "execute_result"
    }
   ],
   "source": [
    "mag3d(px, py, pz)"
   ]
  },
  {
   "cell_type": "markdown",
   "id": "c8397a2f",
   "metadata": {},
   "source": [
    "# Importing Functionality in python"
   ]
  },
  {
   "cell_type": "code",
   "execution_count": 15,
   "id": "56be6f1b",
   "metadata": {},
   "outputs": [],
   "source": [
    "import math"
   ]
  },
  {
   "cell_type": "markdown",
   "id": "5e3063c0",
   "metadata": {},
   "source": [
    "This introduced a new variable into the environment."
   ]
  },
  {
   "cell_type": "code",
   "execution_count": 17,
   "id": "64d7ab8a",
   "metadata": {},
   "outputs": [
    {
     "data": {
      "text/plain": [
       "0.10565709514578395"
      ]
     },
     "execution_count": 17,
     "metadata": {},
     "output_type": "execute_result"
    }
   ],
   "source": [
    "math.sqrt(E**2 - px**2 - py**2 - pz**2)"
   ]
  },
  {
   "cell_type": "markdown",
   "id": "b814410c",
   "metadata": {},
   "source": [
    "The dot-syntax prevents functions with the same names in different libraries from conflicting."
   ]
  },
  {
   "cell_type": "code",
   "execution_count": 19,
   "id": "b4cd5f2c",
   "metadata": {},
   "outputs": [],
   "source": [
    "import numpy"
   ]
  },
  {
   "cell_type": "code",
   "execution_count": 20,
   "id": "f6252808",
   "metadata": {},
   "outputs": [
    {
     "data": {
      "text/plain": [
       "<ufunc 'sqrt'>"
      ]
     },
     "execution_count": 20,
     "metadata": {},
     "output_type": "execute_result"
    }
   ],
   "source": [
    "numpy.sqrt"
   ]
  },
  {
   "cell_type": "code",
   "execution_count": 22,
   "id": "769885d4",
   "metadata": {},
   "outputs": [
    {
     "data": {
      "text/plain": [
       "<function math.sqrt(x, /)>"
      ]
     },
     "execution_count": 22,
     "metadata": {},
     "output_type": "execute_result"
    }
   ],
   "source": [
    "math.sqrt"
   ]
  },
  {
   "cell_type": "code",
   "execution_count": 23,
   "id": "34f144af",
   "metadata": {},
   "outputs": [
    {
     "data": {
      "text/plain": [
       "False"
      ]
     },
     "execution_count": 23,
     "metadata": {},
     "output_type": "execute_result"
    }
   ],
   "source": [
    "numpy.sqrt is math.sqrt"
   ]
  },
  {
   "cell_type": "markdown",
   "id": "0fb9119b",
   "metadata": {},
   "source": [
    "Some libraries have conventional \"short names.\""
   ]
  },
  {
   "cell_type": "code",
   "execution_count": 24,
   "id": "0e75d4db",
   "metadata": {},
   "outputs": [],
   "source": [
    "import numpy as np"
   ]
  },
  {
   "cell_type": "code",
   "execution_count": 25,
   "id": "21636094",
   "metadata": {},
   "outputs": [
    {
     "data": {
      "text/plain": [
       "0.10565709514578395"
      ]
     },
     "execution_count": 25,
     "metadata": {},
     "output_type": "execute_result"
    }
   ],
   "source": [
    "np.sqrt(E**2 - px**2 - py**2 - pz**2)"
   ]
  },
  {
   "cell_type": "markdown",
   "id": "d9837783",
   "metadata": {},
   "source": [
    "Sometimes, you might prefer to extract only one object from a library."
   ]
  },
  {
   "cell_type": "code",
   "execution_count": 29,
   "id": "56497795",
   "metadata": {},
   "outputs": [],
   "source": [
    "from hepunits import GeV\n",
    "from particle import Particle"
   ]
  },
  {
   "cell_type": "code",
   "execution_count": 32,
   "id": "b94641db",
   "metadata": {},
   "outputs": [
    {
     "data": {
      "text/latex": [
       "$\\mu^{+}$"
      ],
      "text/plain": [
       "<Particle: name=\"mu+\", pdgid=-13, mass=105.6583755 ± 0.0000023 MeV>"
      ]
     },
     "execution_count": 32,
     "metadata": {},
     "output_type": "execute_result"
    }
   ],
   "source": [
    "muon = Particle.from_name(\"mu+\")\n",
    "muon"
   ]
  },
  {
   "cell_type": "code",
   "execution_count": 33,
   "id": "f36e3a04",
   "metadata": {},
   "outputs": [
    {
     "data": {
      "text/latex": [
       "$p$"
      ],
      "text/plain": [
       "<Particle: name=\"p\", pdgid=2212, mass=938.2720882 ± 0.0000003 MeV>"
      ]
     },
     "execution_count": 33,
     "metadata": {},
     "output_type": "execute_result"
    }
   ],
   "source": [
    "proton = Particle.from_pdgid(2212)\n",
    "proton"
   ]
  },
  {
   "cell_type": "code",
   "execution_count": 36,
   "id": "24d277b4",
   "metadata": {},
   "outputs": [
    {
     "data": {
      "text/plain": [
       "0.93827208816"
      ]
     },
     "execution_count": 36,
     "metadata": {},
     "output_type": "execute_result"
    }
   ],
   "source": [
    "proton.mass /GeV"
   ]
  },
  {
   "cell_type": "code",
   "execution_count": 37,
   "id": "d087f905",
   "metadata": {},
   "outputs": [
    {
     "data": {
      "text/plain": [
       "0.1056583755"
      ]
     },
     "execution_count": 37,
     "metadata": {},
     "output_type": "execute_result"
    }
   ],
   "source": [
    "muon.mass /GeV"
   ]
  },
  {
   "cell_type": "code",
   "execution_count": null,
   "id": "7a64e4c0",
   "metadata": {},
   "outputs": [],
   "source": []
  }
 ],
 "metadata": {
  "kernelspec": {
   "display_name": "Python 3 (ipykernel)",
   "language": "python",
   "name": "python3"
  },
  "language_info": {
   "codemirror_mode": {
    "name": "ipython",
    "version": 3
   },
   "file_extension": ".py",
   "mimetype": "text/x-python",
   "name": "python",
   "nbconvert_exporter": "python",
   "pygments_lexer": "ipython3",
   "version": "3.10.6"
  }
 },
 "nbformat": 4,
 "nbformat_minor": 5
}
